{
 "cells": [
  {
   "cell_type": "code",
   "execution_count": 20,
   "metadata": {
    "scrolled": true
   },
   "outputs": [
    {
     "name": "stdout",
     "output_type": "stream",
     "text": [
      "2: Ci : 0 0 0 (-x, -y, -z)\n",
      "initial : [1, 1, 1]\n",
      "final :\n",
      "[-1. -1. -1.]\n",
      "\n",
      "4: 3-bar axis (y, -x+y, -z)\n",
      "initial : [0.66, 0.33, 0.75]\n",
      "final :\n",
      "[ 0.33 -0.33 -0.75]\n",
      "\n",
      "10: mirror plane (-x+y, y, z)\n",
      "initial : [1, 0, 0]\n",
      "final :\n",
      "[-1.  0.  0.]\n"
     ]
    }
   ],
   "source": [
    "#from pymatgen.ext.matproj import MPRester\n",
    "#from pymatgen.entries.compatibility import MaterialsProjectCompatibility\n",
    "#from pymatgen.io.cif import CifWriter\n",
    "\n",
    "#with MPRester(\"pP3oO84VRXsSUgkW\") as m:\n",
    "#    struct = m.get_structure_by_material_id(\"mp-22893\")\n",
    "#    w = CifWriter(struct,0.1)\n",
    "#    w.write_file(\"mp-22893.cif\")\n",
    "from pymatgen.io.cif import CifParser\n",
    "parser = CifParser(\"mp-22893.cif\")\n",
    "struct = parser.get_structures()[0]\n",
    "    \n",
    "from pymatgen.symmetry.analyzer import SpacegroupAnalyzer\n",
    "new_s = SpacegroupAnalyzer(struct).get_primitive_standard_structure()\n",
    "sym = SpacegroupAnalyzer(new_s,0.1).get_symmetry_operations(cartesian=False)\n",
    "\n",
    "import numpy as np\n",
    "\n",
    "S = np.asarray(sym)\n",
    "\n",
    "#print(S)\n",
    "\n",
    "print(\"2: Ci : 0 0 0 (-x, -y, -z)\")\n",
    "print(\"initial : [1, 1, 1]\")\n",
    "print(\"final :\")\n",
    "sym1 = S[1]\n",
    "a = sym1.as_xyz_string()\n",
    "coord_sym1 = sym1.operate([1,1,1])\n",
    "print(coord_sym1)\n",
    "print(\"\")\n",
    "\n",
    "print(\"4: 3-bar axis (y, -x+y, -z)\")\n",
    "print(\"initial : [0.66, 0.33, 0.75]\")\n",
    "print(\"final :\")\n",
    "sym2 = S[3]\n",
    "b = sym2.as_xyz_string()\n",
    "coord_sym2 = sym2.operate([0.66,0.33,0.75])\n",
    "print(coord_sym2)\n",
    "print(\"\")\n",
    "\n",
    "print(\"10: mirror plane (-x+y, y, z)\")\n",
    "print(\"initial : [1, 0, 0]\")\n",
    "print(\"final :\")\n",
    "sym3 = S[9]\n",
    "c = sym3.as_xyz_string()\n",
    "coord_sym3 = sym3.operate([1,0,0])\n",
    "print(coord_sym3)"
   ]
  },
  {
   "cell_type": "code",
   "execution_count": null,
   "metadata": {},
   "outputs": [],
   "source": []
  }
 ],
 "metadata": {
  "kernelspec": {
   "display_name": "Python 3",
   "language": "python",
   "name": "python3"
  },
  "language_info": {
   "codemirror_mode": {
    "name": "ipython",
    "version": 3
   },
   "file_extension": ".py",
   "mimetype": "text/x-python",
   "name": "python",
   "nbconvert_exporter": "python",
   "pygments_lexer": "ipython3",
   "version": "3.6.8"
  }
 },
 "nbformat": 4,
 "nbformat_minor": 2
}
