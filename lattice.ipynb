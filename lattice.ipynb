{
 "cells": [
  {
   "cell_type": "code",
   "execution_count": 30,
   "metadata": {},
   "outputs": [
    {
     "name": "stdout",
     "output_type": "stream",
     "text": [
      "trigonal\n",
      "-2.344710 -4.061157 -0.000000\n",
      "-2.344710 4.061157 0.000000\n",
      "0.000000 0.000000 -7.503160\n"
     ]
    },
    {
     "ename": "NameError",
     "evalue": "name 'vecteurdirect' is not defined",
     "output_type": "error",
     "traceback": [
      "\u001b[0;31m---------------------------------------------------------------------------\u001b[0m",
      "\u001b[0;31mNameError\u001b[0m                                 Traceback (most recent call last)",
      "\u001b[0;32m<ipython-input-30-bb7fc518c2ef>\u001b[0m in \u001b[0;36m<module>\u001b[0;34m\u001b[0m\n\u001b[1;32m     13\u001b[0m \u001b[0mvect\u001b[0m \u001b[0;34m=\u001b[0m \u001b[0mstructure\u001b[0m\u001b[0;34m.\u001b[0m\u001b[0mlattice\u001b[0m\u001b[0;34m\u001b[0m\u001b[0;34m\u001b[0m\u001b[0m\n\u001b[1;32m     14\u001b[0m \u001b[0mprint\u001b[0m\u001b[0;34m(\u001b[0m\u001b[0mvect\u001b[0m\u001b[0;34m)\u001b[0m\u001b[0;34m\u001b[0m\u001b[0;34m\u001b[0m\u001b[0m\n\u001b[0;32m---> 15\u001b[0;31m \u001b[0mvect_diret\u001b[0m \u001b[0;34m=\u001b[0m \u001b[0mvecteurdirect\u001b[0m\u001b[0;34m.\u001b[0m\u001b[0mreciprocal_lattice\u001b[0m\u001b[0;34m\u001b[0m\u001b[0;34m\u001b[0m\u001b[0m\n\u001b[0m\u001b[1;32m     16\u001b[0m \u001b[0;31m#reciproque = Lattice(new_s).reciprocal_lattice_crystallographic\u001b[0m\u001b[0;34m\u001b[0m\u001b[0;34m\u001b[0m\u001b[0;34m\u001b[0m\u001b[0m\n\u001b[1;32m     17\u001b[0m \u001b[0;31m#print(reciproque)\u001b[0m\u001b[0;34m\u001b[0m\u001b[0;34m\u001b[0m\u001b[0;34m\u001b[0m\u001b[0m\n",
      "\u001b[0;31mNameError\u001b[0m: name 'vecteurdirect' is not defined"
     ]
    }
   ],
   "source": [
    "from pymatgen.io.cif import CifParser\n",
    "parser = CifParser(\"mp-22893.cif\")\n",
    "structure = parser.get_structures()[0]\n",
    "from pymatgen.symmetry.analyzer import SpacegroupAnalyzer\n",
    "new_s=SpacegroupAnalyzer(structure).get_primitive_standard_structure()\n",
    "system = SpacegroupAnalyzer(new_s).get_crystal_system()\n",
    "print(system)\n",
    "from pymatgen.symmetry.analyzer import PointGroupAnalyzer\n",
    "#new_s = PointGroupAnalyzer(structure).get_primitive_standard_structure()\n",
    "#system2 = PointGroupAnalyzer(new_s).get_pointgroup()\n",
    "#print(system2)\n",
    "from pymatgen.core.lattice import Lattice\n",
    "vect = structure.lattice\n",
    "print(vect)\n",
    "#vect_diret = vecteurdirect.reciprocal_lattice\n",
    "#reciproque = Lattice(new_s).reciprocal_lattice_crystallographic\n",
    "#print(reciproque)\n",
    "#a = Lattice(new_s).a\n",
    "#print(a)\n",
    "#b = Lattice(new_s).b\n",
    "#print(b)\n",
    "#c = Lattice(new_s).c\n",
    "#print(c)\n",
    "#from pymatgen.symmetry.groups import PointGroup\n",
    "#new_s = PointGroup(structure)\n",
    "#groupe_ponctuel = PointGroup(new_s)\n",
    "#print(groupe_ponctuel)\n"
   ]
  },
  {
   "cell_type": "code",
   "execution_count": null,
   "metadata": {},
   "outputs": [],
   "source": []
  },
  {
   "cell_type": "code",
   "execution_count": null,
   "metadata": {},
   "outputs": [],
   "source": []
  },
  {
   "cell_type": "code",
   "execution_count": null,
   "metadata": {},
   "outputs": [],
   "source": []
  },
  {
   "cell_type": "code",
   "execution_count": null,
   "metadata": {},
   "outputs": [],
   "source": []
  },
  {
   "cell_type": "code",
   "execution_count": null,
   "metadata": {},
   "outputs": [],
   "source": []
  },
  {
   "cell_type": "code",
   "execution_count": null,
   "metadata": {},
   "outputs": [],
   "source": []
  },
  {
   "cell_type": "code",
   "execution_count": null,
   "metadata": {},
   "outputs": [],
   "source": []
  }
 ],
 "metadata": {
  "kernelspec": {
   "display_name": "Python 3",
   "language": "python",
   "name": "python3"
  },
  "language_info": {
   "codemirror_mode": {
    "name": "ipython",
    "version": 3
   },
   "file_extension": ".py",
   "mimetype": "text/x-python",
   "name": "python",
   "nbconvert_exporter": "python",
   "pygments_lexer": "ipython3",
   "version": "3.6.8"
  }
 },
 "nbformat": 4,
 "nbformat_minor": 2
}
