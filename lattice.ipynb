{
 "cells": [
  {
   "cell_type": "code",
   "execution_count": 43,
   "metadata": {},
   "outputs": [
    {
     "name": "stdout",
     "output_type": "stream",
     "text": [
      "trigonal\n",
      "\n",
      "-2.344710 -4.061157 -0.000000\n",
      "-2.344710 4.061157 0.000000\n",
      "0.000000 0.000000 -7.503160\n",
      "\n",
      "-1.339864 -0.773571 -0.000000\n",
      "-1.339864 0.773571 -0.000000\n",
      "0.000000 0.000000 -0.837405\n",
      "\n",
      "-3m\n",
      "\n",
      "hexagonal\n",
      "\n"
     ]
    }
   ],
   "source": [
    "from pymatgen.io.cif import CifParser\n",
    "parser = CifParser(\"mp-22893.cif\")\n",
    "structure = parser.get_structures()[0]\n",
    "from pymatgen.symmetry.analyzer import SpacegroupAnalyzer\n",
    "new_s=SpacegroupAnalyzer(structure).get_primitive_standard_structure()\n",
    "system = SpacegroupAnalyzer(new_s).get_crystal_system()\n",
    "print(system)\n",
    "print(\"\")\n",
    "from pymatgen.symmetry.analyzer import PointGroupAnalyzer\n",
    "#new_s = PointGroupAnalyzer(structure).get_primitive_standard_structure()\n",
    "#system2 = PointGroupAnalyzer(new_s).get_pointgroup()\n",
    "#print(system2)\n",
    "from pymatgen.core.lattice import Lattice\n",
    "vect = structure.lattice\n",
    "print(vect)\n",
    "print(\"\")\n",
    "reciproque = vect.reciprocal_lattice\n",
    "print(reciproque)\n",
    "print(\"\")\n",
    "#reciproque = Lattice(new_s).reciprocal_lattice_crystallographic\n",
    "#print(reciproque)\n",
    "#a = Lattice(new_s).a\n",
    "#print(a)\n",
    "#b = Lattice(new_s).b\n",
    "#print(b)\n",
    "#c = Lattice(new_s).c\n",
    "#print(c)\n",
    "#from pymatgen.symmetry.groups import PointGroup\n",
    "#new_s = PointGroup(structure)\n",
    "#groupe_ponctuel = PointGroup(new_s)\n",
    "#print(groupe_ponctuel)\n",
    "#from pymatgen.symmetry.analyzer import PointGroupAnalyzer\n",
    "#groupe_ponctuel = PointGroupAnalyzer.get_pointgroup()\n",
    "#print(groupe_ponctuel)\n",
    "\n",
    "group_ponct = SpacegroupAnalyzer(structure).get_point_group_symbol()\n",
    "print(group_ponct)\n",
    "print(\"\")\n",
    "type_maille = SpacegroupAnalyzer(structure).get_lattice_type()\n",
    "print(type_maille)\n",
    "print(\"\")"
   ]
  },
  {
   "cell_type": "code",
   "execution_count": null,
   "metadata": {},
   "outputs": [],
   "source": []
  },
  {
   "cell_type": "code",
   "execution_count": null,
   "metadata": {},
   "outputs": [],
   "source": []
  },
  {
   "cell_type": "code",
   "execution_count": null,
   "metadata": {},
   "outputs": [],
   "source": []
  },
  {
   "cell_type": "code",
   "execution_count": null,
   "metadata": {},
   "outputs": [],
   "source": []
  },
  {
   "cell_type": "code",
   "execution_count": null,
   "metadata": {},
   "outputs": [],
   "source": []
  },
  {
   "cell_type": "code",
   "execution_count": null,
   "metadata": {},
   "outputs": [],
   "source": []
  },
  {
   "cell_type": "code",
   "execution_count": null,
   "metadata": {},
   "outputs": [],
   "source": []
  }
 ],
 "metadata": {
  "kernelspec": {
   "display_name": "Python 3",
   "language": "python",
   "name": "python3"
  },
  "language_info": {
   "codemirror_mode": {
    "name": "ipython",
    "version": 3
   },
   "file_extension": ".py",
   "mimetype": "text/x-python",
   "name": "python",
   "nbconvert_exporter": "python",
   "pygments_lexer": "ipython3",
   "version": "3.6.8"
  }
 },
 "nbformat": 4,
 "nbformat_minor": 2
}
